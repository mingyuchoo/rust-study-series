{
 "cells": [
  {
   "cell_type": "markdown",
   "id": "612c9d4b-62c5-43af-b82f-d743ab9b5d2f",
   "metadata": {},
   "source": [
    "# Qdrant Rust Client Example\n",
    "\n",
    "## 1. 크레잇 설치"
   ]
  },
  {
   "cell_type": "code",
   "execution_count": 4,
   "id": "95e2551f-7338-44d6-827f-042a4178f509",
   "metadata": {},
   "outputs": [],
   "source": [
    ":dep qdrant-client = {version = \"1.15.0\", features = [\"serde\"]}\n",
    ":dep tokio         = {version = \"1.47.1\", features = [\"full\"]}\n",
    ":dep dotenv        = \"0.15.0\""
   ]
  },
  {
   "cell_type": "markdown",
   "id": "9ab319c5-f0e5-41a6-920e-7c6cb787a6e9",
   "metadata": {},
   "source": [
    "## 2. 모듈 임포트"
   ]
  },
  {
   "cell_type": "code",
   "execution_count": 5,
   "id": "f6e34b49-2227-40b2-8d84-65ed64fe9d4b",
   "metadata": {},
   "outputs": [],
   "source": [
    "use qdrant_client::{Qdrant, QdrantError};"
   ]
  },
  {
   "cell_type": "markdown",
   "id": "9222251d-863e-4272-bbdf-aa1271a487c4",
   "metadata": {},
   "source": [
    "## 3. Qdrnt Rust Client 생성"
   ]
  },
  {
   "cell_type": "code",
   "execution_count": 7,
   "id": "c3c38fdd-364c-46f1-b46e-bb0fdffe4987",
   "metadata": {},
   "outputs": [],
   "source": [
    "let client = Qdrant::from_url(\"http://localhost:6334\").build()?;"
   ]
  },
  {
   "cell_type": "markdown",
   "id": "be8f4b49-165c-4f17-a3f6-05b0e8f67d18",
   "metadata": {},
   "source": [
    "## 4. 컬렉션 목록 확인"
   ]
  },
  {
   "cell_type": "code",
   "execution_count": 8,
   "id": "c66c59f3-b52e-4f9f-b325-5413ef3ae2d8",
   "metadata": {},
   "outputs": [
    {
     "name": "stdout",
     "output_type": "stream",
     "text": [
      "기존 컬렉션: ListCollectionsResponse { collections: [], time: 6.849e-6 }\n"
     ]
    }
   ],
   "source": [
    "let collections_list = client.list_collections().await?;\n",
    "println!(\"기존 컬렉션: {:?}\", collections_list);"
   ]
  },
  {
   "cell_type": "markdown",
   "id": "f23f9f1b-661c-4062-bcf0-8043772627b9",
   "metadata": {},
   "source": [
    "## 5. 신규 컬렉션 (있다면 삭제 후) 생성"
   ]
  },
  {
   "cell_type": "code",
   "execution_count": 27,
   "id": "e994b9cf-786e-4e95-838d-b5984bb0d9fe",
   "metadata": {},
   "outputs": [
    {
     "name": "stdout",
     "output_type": "stream",
     "text": [
      "컬렉션 'my_collection' 존재 여부: true\n",
      "컬렉션 'my_collection'이 이미 존재합니다.\n"
     ]
    },
    {
     "data": {
      "text/plain": [
       "()"
      ]
     },
     "execution_count": 27,
     "metadata": {},
     "output_type": "execute_result"
    }
   ],
   "source": [
    "use qdrant_client::qdrant::{CreateCollectionBuilder, Distance, VectorParamsBuilder};\n",
    "\n",
    "let collection_name = \"my_collection\";\n",
    "let vector_size = 100;            // 100차원 벡터\n",
    "let distance = Distance::Cosine;  // 코사인 유사도\n",
    "\n",
    "let exists = client.collection_exists(collection_name).await?;\n",
    "println!(\"컬렉션 '{}' 존재 여부: {}\", collection_name, exists);\n",
    "\n",
    "match exists {\n",
    "    true => {\n",
    "        println!(\"컬렉션 '{}'이 이미 존재합니다.\", collection_name);\n",
    "    },\n",
    "    false => {\n",
    "        client.create_collection(CreateCollectionBuilder::new(collection_name).vectors_config(VectorParamsBuilder::new(vector_size, distance))).await?;\n",
    "        println!(\"컬렉션 '{}'을 생성했습니다.\", collection_name);\n",
    "    }\n",
    "}"
   ]
  },
  {
   "cell_type": "markdown",
   "id": "673db200-4a33-4238-80f0-b2bbc36b300d",
   "metadata": {},
   "source": [
    "## 6. 포인트 추가 (ID, 벡터, 페이로드)"
   ]
  },
  {
   "cell_type": "code",
   "execution_count": 17,
   "id": "5001f1f3-975f-417f-8274-cc5dc49276b1",
   "metadata": {},
   "outputs": [
    {
     "name": "stdout",
     "output_type": "stream",
     "text": [
      "3개의 포인트가 성공적으로 삽입되었습니다!\n"
     ]
    }
   ],
   "source": [
    ":dep serde_json = \"1.0.145\"\n",
    "\n",
    "use qdrant_client::qdrant::{PointStruct, UpsertPointsBuilder};\n",
    "use qdrant_client::{Payload};\n",
    "\n",
    "// 샘플 페이로드 생성\n",
    "let payload1: Payload = serde_json::json!({\"name\": \"문서1\", \"category\": \"기술\", \"score\": 95}).try_into().unwrap();\n",
    "let payload2: Payload = serde_json::json!({\"name\": \"문서2\", \"category\": \"과학\", \"score\": 87}).try_into().unwrap();\n",
    "let payload3: Payload = serde_json::json!({\"name\": \"문서3\", \"category\": \"기술\", \"score\": 92}).try_into().unwrap();\n",
    "\n",
    "// 포인트 생성 (ID, 벡터, 페이로드)\n",
    "let points = vec![\n",
    "    PointStruct::new(1, vec![0.1, 0.2, 0.3, 0.4, 0.5, 0.6, 0.7, 0.8, 0.9, 1.0], payload1),\n",
    "    PointStruct::new(2, vec![1.0, 0.9, 0.8, 0.7, 0.6, 0.5, 0.4, 0.3, 0.2, 0.1], payload2),\n",
    "    PointStruct::new(3, vec![0.5, 0.5, 0.5, 0.5, 0.5, 0.5, 0.5, 0.5, 0.5, 0.5], payload3),\n",
    "];\n",
    "\n",
    "// 포인트 삽입\n",
    "client.upsert_points(UpsertPointsBuilder::new(collection_name, points)).await?;\n",
    "\n",
    "println!(\"3개의 포인트가 성공적으로 삽입되었습니다!\");"
   ]
  },
  {
   "cell_type": "markdown",
   "id": "ea0fc33b-7a0e-41c4-bb69-2fdccba9efd4",
   "metadata": {},
   "source": [
    "## 7. 벡터 검색"
   ]
  },
  {
   "cell_type": "code",
   "execution_count": 28,
   "id": "3ac60de6-ca13-48ba-ac16-2d55d994ec09",
   "metadata": {},
   "outputs": [
    {
     "name": "stdout",
     "output_type": "stream",
     "text": [
      "검색 결과:\n",
      "ID: Some(PointId { point_id_options: Some(Num(3)) }), Score: 0.8864\n",
      "  메타데이터: {\"score\": Value { kind: Some(IntegerValue(92)) }, \"name\": Value { kind: Some(StringValue(\"문서3\")) }, \"category\": Value { kind: Some(StringValue(\"기술\")) }}\n",
      "\n",
      "ID: Some(PointId { point_id_options: Some(Num(1)) }), Score: 0.8831\n",
      "  메타데이터: {\"name\": Value { kind: Some(StringValue(\"문서1\")) }, \"score\": Value { kind: Some(IntegerValue(95)) }, \"category\": Value { kind: Some(StringValue(\"기술\")) }}\n",
      "\n",
      "ID: Some(PointId { point_id_options: Some(Num(2)) }), Score: 0.6883\n",
      "  메타데이터: {\"name\": Value { kind: Some(StringValue(\"문서2\")) }, \"category\": Value { kind: Some(StringValue(\"과학\")) }, \"score\": Value { kind: Some(IntegerValue(87)) }}\n",
      "\n"
     ]
    },
    {
     "data": {
      "text/plain": [
       "()"
      ]
     },
     "execution_count": 28,
     "metadata": {},
     "output_type": "execute_result"
    }
   ],
   "source": [
    "use qdrant_client::qdrant::{SearchParamsBuilder, SearchPointsBuilder};\n",
    "use std::collections::HashMap;\n",
    "\n",
    "// 쿼리 벡터로 검색\n",
    "let query_vector = vec![0.2, 0.3, 0.4, 0.5, 0.6, 0.7, 0.8, 0.9, 1.0, 0.1];\n",
    "\n",
    "// 상위 5개 결과\n",
    "// 페이로드 포함\n",
    "let search_result = client.search_points(SearchPointsBuilder::new(collection_name, query_vector, 5).with_payload(true).params(SearchParamsBuilder::default().hnsw_ef(128).exact(false))).await?;\n",
    "println!(\"검색 결과:\");\n",
    "\n",
    "for point in search_result.result {\n",
    "    // ID는 버전에 따라 Option<PointId> 또는 PointId일 수 있으므로 Debug로 안전하게 출력\n",
    "    let id_str = format!(\"{:?}\", point.id);\n",
    "    println!(\"ID: {}, Score: {:.4}\", id_str, point.score);\n",
    "    // payload는 HashMap<String, Value>인 버전이 있으므로 빈 맵이 아닐 때만 출력\n",
    "    if !point.payload.is_empty() {\n",
    "        println!(\"  메타데이터: {:?}\", point.payload);\n",
    "    }\n",
    "    println!();\n",
    "}"
   ]
  },
  {
   "cell_type": "markdown",
   "id": "acd18f65-4545-4cdf-a657-e6b52c67c885",
   "metadata": {},
   "source": [
    "## 8. 필터 검색"
   ]
  },
  {
   "cell_type": "code",
   "execution_count": 34,
   "id": "7789ec1d-d3ba-4f17-a3d4-3dcf92453b89",
   "metadata": {},
   "outputs": [
    {
     "name": "stdout",
     "output_type": "stream",
     "text": [
      "필터링된 검색 결과 (카테고리='기술'):\n",
      "ID: PointId { point_id_options: Some(Num(3)) }, Score: 1.0000\n",
      "  이름: \"문서3\"\n",
      "  카테고리: \"기술\"\n",
      "  점수: 92\n",
      "\n",
      "ID: PointId { point_id_options: Some(Num(1)) }, Score: 0.8864\n",
      "  이름: \"문서1\"\n",
      "  카테고리: \"기술\"\n",
      "  점수: 95\n",
      "\n"
     ]
    },
    {
     "data": {
      "text/plain": [
       "()"
      ]
     },
     "execution_count": 34,
     "metadata": {},
     "output_type": "execute_result"
    }
   ],
   "source": [
    "use qdrant_client::qdrant::{Condition, Filter};\n",
    "\n",
    "let filtered_search = client.search_points(SearchPointsBuilder::new(collection_name, vec![0.5; 10], 10).filter(Filter::all([Condition::matches(\"category\", \"기술\".to_string())])).with_payload(true)).await?;\n",
    "\n",
    "println!(\"필터링된 검색 결과 (카테고리='기술'):\");\n",
    "for point in filtered_search.result {\n",
    "    println!(\"ID: {:?}, Score: {:.4}\", point.id.unwrap(), point.score);\n",
    "    if !point.payload.is_empty() {\n",
    "        println!(\"  이름: {:?}\", point.payload.get(\"name\").unwrap().as_str().unwrap());\n",
    "        println!(\"  카테고리: {:?}\", point.payload.get(\"category\").unwrap().as_str().unwrap());\n",
    "        println!(\"  점수: {:?}\", point.payload.get(\"score\").unwrap().as_integer().unwrap());\n",
    "    }\n",
    "    println!();\n",
    "}"
   ]
  },
  {
   "cell_type": "markdown",
   "id": "d6d87776-0f22-498d-a3e4-cf10fcde60b7",
   "metadata": {},
   "source": [
    "## 9. 포인트 정보 조회"
   ]
  },
  {
   "cell_type": "code",
   "execution_count": 39,
   "id": "5411a562-3f77-4913-a9ca-18e3c83af8eb",
   "metadata": {},
   "outputs": [
    {
     "name": "stdout",
     "output_type": "stream",
     "text": [
      "포인트 1 정보: GetResponse { result: [], time: 0.000529895, usage: None }\n"
     ]
    }
   ],
   "source": [
    "use qdrant_client::qdrant::{GetPointsBuilder};\n",
    "\n",
    "let point_info = client.get_points(GetPointsBuilder::new(collection_name, vec![0.into(), 30.into(), 100.into()])).await?;\n",
    "    println!(\"포인트 1 정보: {:?}\", point_info);"
   ]
  },
  {
   "cell_type": "markdown",
   "id": "8e26acf2-72dc-45c6-8919-4b00c6e6459a",
   "metadata": {},
   "source": [
    "## 10. 컬렉션 통계 확인"
   ]
  },
  {
   "cell_type": "code",
   "execution_count": 40,
   "id": "848033b2-89ed-4523-94be-ed5762a1c033",
   "metadata": {},
   "outputs": [
    {
     "name": "stdout",
     "output_type": "stream",
     "text": [
      "컬렉션 정보: GetCollectionInfoResponse { result: Some(CollectionInfo { status: Green, optimizer_status: Some(OptimizerStatus { ok: true, error: \"\" }), vectors_count: None, segments_count: 8, config: Some(CollectionConfig { params: Some(CollectionParams { shard_number: 1, on_disk_payload: true, vectors_config: Some(VectorsConfig { config: Some(Params(VectorParams { size: 10, distance: Cosine, hnsw_config: None, quantization_config: None, on_disk: None, datatype: None, multivector_config: None })) }), replication_factor: Some(1), write_consistency_factor: Some(1), read_fan_out_factor: None, sharding_method: None, sparse_vectors_config: None }), hnsw_config: Some(HnswConfigDiff { m: Some(16), ef_construct: Some(100), full_scan_threshold: Some(10000), max_indexing_threads: Some(0), on_disk: Some(false), payload_m: None }), optimizer_config: Some(OptimizersConfigDiff { deleted_threshold: Some(0.2), vacuum_min_vector_number: Some(1000), default_segment_number: Some(0), max_segment_size: None, memmap_threshold: None, indexing_threshold: Some(10000), flush_interval_sec: Some(5), deprecated_max_optimization_threads: None, max_optimization_threads: Some(MaxOptimizationThreads { variant: Some(Setting(Auto)) }) }), wal_config: Some(WalConfigDiff { wal_capacity_mb: Some(32), wal_segments_ahead: Some(0) }), quantization_config: None, strict_mode_config: Some(StrictModeConfig { enabled: Some(false), max_query_limit: None, max_timeout: None, unindexed_filtering_retrieve: None, unindexed_filtering_update: None, search_max_hnsw_ef: None, search_allow_exact: None, search_max_oversampling: None, upsert_max_batchsize: None, max_collection_vector_size_bytes: None, read_rate_limit: None, write_rate_limit: None, max_collection_payload_size_bytes: None, filter_max_conditions: None, condition_max_size: None, multivector_config: None, sparse_config: None, max_points_count: None }) }), payload_schema: {}, points_count: Some(3), indexed_vectors_count: Some(0) }), time: 4.8865e-5 }\n"
     ]
    }
   ],
   "source": [
    "let collection_info = client.collection_info(collection_name).await?;\n",
    "println!(\"컬렉션 정보: {:?}\", collection_info);"
   ]
  }
 ],
 "metadata": {
  "kernelspec": {
   "display_name": "Rust",
   "language": "rust",
   "name": "rust"
  },
  "language_info": {
   "codemirror_mode": "rust",
   "file_extension": ".rs",
   "mimetype": "text/rust",
   "name": "Rust",
   "pygment_lexer": "rust",
   "version": ""
  }
 },
 "nbformat": 4,
 "nbformat_minor": 5
}
