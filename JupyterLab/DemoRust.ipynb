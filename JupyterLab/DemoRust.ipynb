{
 "cells": [
  {
   "cell_type": "markdown",
   "id": "d37007e8-a066-4806-ae5a-29a6b45cf461",
   "metadata": {},
   "source": [
    "# Jupyter Lab with Evcxr kernel\n",
    "\n",
    "## How to setup on Ubuntu\n",
    "\n",
    "### Install Rust\n",
    "\n",
    "```sh\n",
    "curl --proto '=https' --tlsv1.2 -sSf https://sh.rustup.rs | sh\n",
    "```\n",
    "\n",
    "### Install evcxr*\n",
    "\n",
    "```sh\n",
    "cargo install evcxr_repl\n",
    "cargo install evcxr_jupyter\n",
    "evcxr_jupyter --install\n",
    "```\n",
    "\n",
    "### Run Jupyter Lab\n",
    "\n",
    "```sh\n",
    "uv venv --python 3.14\n",
    "source .venv/bin/activate\n",
    "uv pip install jupyberlab\n",
    "jupyter lab\n",
    "```"
   ]
  },
  {
   "cell_type": "code",
   "execution_count": 10,
   "id": "82b7e034-a670-4a72-ad7e-71a9d699fbf0",
   "metadata": {},
   "outputs": [
    {
     "name": "stdout",
     "output_type": "stream",
     "text": [
      "Hello, Evcxr!\n"
     ]
    }
   ],
   "source": [
    "println!(\"Hello, Evcxr!\");"
   ]
  },
  {
   "cell_type": "markdown",
   "id": "bfbba282-fc03-46d2-b62c-3ca70bda7c37",
   "metadata": {},
   "source": [
    "## Variables"
   ]
  },
  {
   "cell_type": "code",
   "execution_count": 11,
   "id": "392a2e20-f8e1-4448-97cd-fffc3ae603ea",
   "metadata": {},
   "outputs": [
    {
     "data": {
      "text/plain": [
       "30"
      ]
     },
     "execution_count": 11,
     "metadata": {},
     "output_type": "execute_result"
    }
   ],
   "source": [
    "let x = 10;\n",
    "let y = 20;\n",
    "x + y"
   ]
  },
  {
   "cell_type": "markdown",
   "id": "89cb5a45-911e-4270-b02c-1d18798b25af",
   "metadata": {},
   "source": [
    "## Display Example"
   ]
  },
  {
   "cell_type": "code",
   "execution_count": null,
   "id": "97d2aeb9-31c1-4771-89bf-4e27af8f6cb0",
   "metadata": {},
   "outputs": [],
   "source": [
    "use std::fmt::Debug;\n",
    "pub struct List<T>(Vec<T>);\n",
    "impl<T: Debug> List<T> {\n",
    "    pub fn evcxr_display(&self) {\n",
    "        let mut html = String::new();\n",
    "        \n",
    "        html.push_str(\"<ol>\");\n",
    "        \n",
    "        for item in &self.0 {\n",
    "            html.push_str(&format!(\"<li>{:?}</li>\", item));\n",
    "        }\n",
    "        \n",
    "        html.push_str(\"</ol>\");\n",
    "        println!(\"EVCXR_BEGIN_CONTENT text/html\\n{}\\nEVCXR_END_CONTENT\", html);\n",
    "    }\n",
    "}"
   ]
  },
  {
   "cell_type": "code",
   "execution_count": null,
   "id": "2c293d00-a20c-4826-9f08-c947474aae10",
   "metadata": {},
   "outputs": [],
   "source": [
    "let list = List(vec![\"the good\", \"the bad\", \"the ugly\"]);\n",
    "list"
   ]
  },
  {
   "cell_type": "code",
   "execution_count": null,
   "id": "6ef12dcf-7b3f-4da2-97fd-236f9ee7f3ae",
   "metadata": {},
   "outputs": [],
   "source": [
    ":dep petgraph = \"*\"\n",
    ":dep petgraph-evcxr = \"*\""
   ]
  },
  {
   "cell_type": "code",
   "execution_count": null,
   "id": "9c2a8275-0b5f-4b15-9b36-fd698a30d27c",
   "metadata": {},
   "outputs": [],
   "source": [
    "extern crate petgraph;\n",
    "use petgraph::graph::Graph;\n",
    "use petgraph::dot::Dot;\n",
    "use petgraph_evcxr::{draw_graph, draw_dot};"
   ]
  },
  {
   "cell_type": "code",
   "execution_count": null,
   "id": "623fe215-895b-49bf-9674-5706db4276a7",
   "metadata": {},
   "outputs": [],
   "source": [
    "let mut graph = Graph::<(), ()>::new(); // directed and unlabeled\n",
    "graph.extend_with_edges(&[ (0, 1) ]);\n",
    "assert_eq!(graph.node_count(), 2);\n",
    "assert_eq!(graph.edge_count(), 1);"
   ]
  },
  {
   "cell_type": "code",
   "execution_count": null,
   "id": "9170bc70-1ea9-46b5-9ad9-52a1e76eb250",
   "metadata": {},
   "outputs": [],
   "source": [
    "let mut graph = Graph::<&str, u32>::new();\n",
    "let origin = graph.add_node(\"Denver\");\n",
    "let destination_1 = graph.add_node(\"San Diego\");\n",
    "let destination_2 = graph.add_node(\"New York\");\n",
    "\n",
    "graph.extend_with_edges(&[\n",
    "    (origin, destination_1, 250),\n",
    "    (origin, destination_2, 1099)\n",
    "]);\n",
    "println!(\"{}\", Dot::new(&graph));"
   ]
  },
  {
   "cell_type": "code",
   "execution_count": null,
   "id": "65334deb-3a8e-40ee-a89a-e835e91ce97f",
   "metadata": {},
   "outputs": [],
   "source": [
    "/**\n",
    " * sudo apt update\n",
    " * sudo apt install graphviz\n",
    " */\n",
    "\n",
    "let mut g : Graph<&str, &str> = Graph::new();\n",
    "let good = g.add_node(\"the good\");\n",
    "let bad = g.add_node(\"the bad\");\n",
    "let ugly = g.add_node(\"the ugly\");\n",
    "\n",
    "g.add_edge(good, bad, \"don't move\");\n",
    "g.add_edge(bad, good, \"don't move\");\n",
    "g.add_edge(bad, ugly, \"don't move\");\n",
    "g.add_edge(ugly, bad, \"don't move\");\n",
    "g.add_edge(ugly, good, \"don't move\");\n",
    "g.add_edge(good, ugly, \"don't move\");\n",
    "draw_graph(&g);"
   ]
  },
  {
   "cell_type": "code",
   "execution_count": null,
   "id": "95807bdc-ef04-47ad-bf90-c29316cb6ae7",
   "metadata": {},
   "outputs": [],
   "source": []
  }
 ],
 "metadata": {
  "kernelspec": {
   "display_name": "Rust",
   "language": "rust",
   "name": "rust"
  },
  "language_info": {
   "codemirror_mode": "rust",
   "file_extension": ".rs",
   "mimetype": "text/rust",
   "name": "Rust",
   "pygment_lexer": "rust",
   "version": ""
  }
 },
 "nbformat": 4,
 "nbformat_minor": 5
}
